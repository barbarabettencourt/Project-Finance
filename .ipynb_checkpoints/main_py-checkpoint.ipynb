{
 "cells": [
  {
   "cell_type": "code",
   "execution_count": 262,
   "id": "83b62148-007d-4498-a3b1-b0c1f0193022",
   "metadata": {},
   "outputs": [],
   "source": [
    "import pandas as pd\n",
    "import numpy as np\n",
    "from tqdm.notebook import tqdm\n",
    "import matplotlib.pyplot as plt\n",
    "import cvxopt as opt\n",
    "from cvxopt import blas, solvers\n",
    "import plotly.graph_objects as go\n",
    "from scipy.optimize import minimize, Bounds, LinearConstraint\n",
    "from matplotlib.cm import ScalarMappable"
   ]
  },
  {
   "cell_type": "code",
   "execution_count": 384,
   "id": "3185fa78-e4e0-4dbc-a55f-9d43db2c4f02",
   "metadata": {},
   "outputs": [],
   "source": [
    "risk_free = 0.04/12/100\n",
    "\n",
    "\n",
    "df = pd.read_csv('/Users/frederikfindsen/Documents/GitHub/Project-Finance/data.csv', index_col = 'date').drop('Unnamed: 0',axis=1)\n"
   ]
  },
  {
   "cell_type": "code",
   "execution_count": 394,
   "id": "f8296744-ec25-4b2f-b2da-edf2e5e74302",
   "metadata": {},
   "outputs": [],
   "source": [
    "#Functions\n",
    "exp_ret = df.mean()\n",
    "cov = df.cov()\n",
    "\n",
    "\n",
    "def rand_weights(n):\n",
    "    k = np.random.rand(n)\n",
    "    return k / sum(k)\n",
    "\n",
    "def portfolio_annualised_performance(weights, mean_returns, cov_matrix):\n",
    "    returns = np.sum(mean_returns*weights )*12\n",
    "    std = np.sqrt(np.dot(weights.T, np.dot(cov_matrix, weights))) * np.sqrt(12)\n",
    "    \n",
    "    return std, returns\n",
    "\n",
    "  \n",
    "def random_portfolios(returns, num_portfolios=10000, risk_free_rate=risk_free):\n",
    "    \n",
    "    mean_returns = returns.mean()\n",
    "    cov_matrix = returns.cov()\n",
    "    N = len(returns.columns)\n",
    "    \n",
    "    results = np.zeros((3,num_portfolios))\n",
    "    weights_record = []\n",
    "    \n",
    "    results = pd.DataFrame({'return':[],'std':[],'sharperatio':[]})\n",
    "    \n",
    "    for i in range(num_portfolios):\n",
    "        \n",
    "        weights = np.random.random(N)\n",
    "        weights /= np.sum(weights)\n",
    "        weights_record.append(weights)\n",
    "        std_dev, port_return = portfolio_annualised_performance(weights, mean_returns, cov_matrix)\n",
    "        \n",
    "        results.loc[len(results.index)] = [port_return, std_dev,(port_return - risk_free_rate) / std_dev]\n",
    "    \n",
    "    return results, weights_record\n",
    "\n",
    "\n",
    "def volatiltiy(W, exp_ret, cov):\n",
    "    \n",
    "    vol = np.sqrt(np.dot(W.T, np.dot(cov, W))) * np.sqrt(12)\n",
    "    \n",
    "    return vol\n",
    "\n",
    "\n",
    "# Function that runs optimizer\n",
    "\n",
    "def optimize(func, target_return,exp_ret = df.mean(), cov=df.cov()):\n",
    "    opt_bounds = Bounds(0, 1)\n",
    "    W = np.ones((exp_ret.shape[0],1))*(1.0/exp_ret.shape[0])\n",
    "    \n",
    "    opt_constraints = ({'type': 'eq',\n",
    "                        'fun': lambda W: 1.0 - np.sum(W)},\n",
    "                       {'type': 'eq',\n",
    "                        'fun': lambda W: target_return - W.T@exp_ret})\n",
    "    \n",
    "    optimal_weights = minimize(func, W, \n",
    "                               args=(exp_ret, cov),\n",
    "                               method='SLSQP',\n",
    "                               bounds=opt_bounds,\n",
    "                               constraints=opt_constraints)\n",
    "    \n",
    "    return optimal_weights['x']\n",
    "\n",
    "def optimize_min(func,exp_ret = df.mean(), cov=df.cov()):\n",
    "    opt_bounds = Bounds(0, 1)\n",
    "    W = np.ones((exp_ret.shape[0],1))*(1.0/exp_ret.shape[0])\n",
    "    \n",
    "    opt_constraints = ({'type': 'eq',\n",
    "                        'fun': lambda W: 1.0 - np.sum(W)})\n",
    "    \n",
    "    optimal_weights = minimize(func, W, \n",
    "                               args=(exp_ret, cov),\n",
    "                               method='SLSQP',\n",
    "                               bounds=opt_bounds,\n",
    "                               constraints=opt_constraints)\n",
    "    \n",
    "    return optimal_weights['x']"
   ]
  },
  {
   "cell_type": "markdown",
   "id": "ec3e3f68-6026-4457-a6e4-ec2b18c04e1e",
   "metadata": {},
   "source": [
    "### Efficient Frontier and Min variance portfolio without Risk Free Asset"
   ]
  },
  {
   "cell_type": "code",
   "execution_count": 395,
   "id": "58bac23f-b865-4c24-9a0a-80878f34aa1e",
   "metadata": {},
   "outputs": [
    {
     "data": {
      "text/plain": [
       "<matplotlib.colorbar.Colorbar at 0x7f89b3266520>"
      ]
     },
     "execution_count": 395,
     "metadata": {},
     "output_type": "execute_result"
    },
    {
     "data": {
      "image/png": "[encoded data removed]",
      "text/plain": [
       "<Figure size 432x288 with 2 Axes>"
      ]
     },
     "metadata": {
      "needs_background": "light"
     },
     "output_type": "display_data"
    }
   ],
   "source": [
    "target_return_range = np.linspace(risk_free,0.12,1000) #Range for iterating through different optimal returns\n",
    "\n",
    "efficient_df = pd.DataFrame({'return':[],'std':[],'sharperatio':[]})\n",
    "efficient_port = list()\n",
    "\n",
    "min_port = optimize_min(volatiltiy)\n",
    "\n",
    "for target_return in target_return_range: #Creating efficient frontier\n",
    "    x = optimize(volatiltiy,target_return)\n",
    "    efficient_port.append(x)\n",
    "    std, returns = portfolio_annualised_performance(x,df.mean(),df.cov())\n",
    "    efficient_df.loc[len(efficient_df.index)] = [returns, std, (returns - risk_free) / std]\n",
    "\n",
    "results, weights_records = random_portfolios(df) #Creating a lot of random portfolios\n",
    "\n",
    "\n",
    "\n",
    "fig, axes = plt.subplots()\n",
    "\n",
    "axes.scatter(x=results['std'],\n",
    "            y=results['return'],\n",
    "            c=results['sharperatio'],\n",
    "            cmap='viridis')\n",
    "axes.plot(efficient_df['std'],efficient_df['return'])\n",
    "axes.set_xlabel('Standard Deviation, Annualized')\n",
    "axes.set_ylabel('Return, Annualized')\n",
    "\n",
    "axes.set_xlim(0,0.25)\n",
    "axes.set_ylim(0,0.2)\n",
    "cmap = plt.get_cmap(\"Spectral\")\n",
    "norm = plt.Normalize(results['sharperatio'].min(), results['sharperatio'].max())\n",
    "sm =  ScalarMappable(norm=norm, cmap=cmap)\n",
    "fig.colorbar(sm, ax=axes)"
   ]
  },
  {
   "cell_type": "code",
   "execution_count": 399,
   "id": "27d2abdc-809e-43a6-bdbb-47bda3e268ff",
   "metadata": {},
   "outputs": [
    {
     "data": {
      "text/plain": [
       "0.0874055226473463"
      ]
     },
     "execution_count": 399,
     "metadata": {},
     "output_type": "execute_result"
    }
   ],
   "source": [
    "std, returns = portfolio_annualised_performance(min_port,df.mean(),df.cov())\n",
    "returns"
   ]
  },
  {
   "cell_type": "code",
   "execution_count": 401,
   "id": "993adc28-ff78-493e-8e6c-c59fe9c764ea",
   "metadata": {},
   "outputs": [
    {
     "data": {
      "text/html": [
       "<div>\n",
       "<style scoped>\n",
       "    .dataframe tbody tr th:only-of-type {\n",
       "        vertical-align: middle;\n",
       "    }\n",
       "\n",
       "    .dataframe tbody tr th {\n",
       "        vertical-align: top;\n",
       "    }\n",
       "\n",
       "    .dataframe thead th {\n",
       "        text-align: right;\n",
       "    }\n",
       "</style>\n",
       "<table border=\"1\" class=\"dataframe\">\n",
       "  <thead>\n",
       "    <tr style=\"text-align: right;\">\n",
       "      <th></th>\n",
       "      <th>return</th>\n",
       "      <th>std</th>\n",
       "      <th>sharperatio</th>\n",
       "    </tr>\n",
       "  </thead>\n",
       "  <tbody>\n",
       "    <tr>\n",
       "      <th>9830</th>\n",
       "      <td>0.084035</td>\n",
       "      <td>0.151288</td>\n",
       "      <td>0.555242</td>\n",
       "    </tr>\n",
       "  </tbody>\n",
       "</table>\n",
       "</div>"
      ],
      "text/plain": [
       "        return       std  sharperatio\n",
       "9830  0.084035  0.151288     0.555242"
      ]
     },
     "execution_count": 401,
     "metadata": {},
     "output_type": "execute_result"
    }
   ],
   "source": [
    "results[results['std']==results['std'].min()]"
   ]
  },
  {
   "cell_type": "markdown",
   "id": "700f399e-624c-49d7-848a-4b50537f91e4",
   "metadata": {},
   "source": [
    "#### Efficient Portfolio with Risk Free "
   ]
  },
  {
   "cell_type": "code",
   "execution_count": null,
   "id": "39965377-11f7-4196-a327-c1ff816a33bd",
   "metadata": {},
   "outputs": [],
   "source": [
    "df['rf'] = 0.04/12/100"
   ]
  },
  {
   "cell_type": "code",
   "execution_count": null,
   "id": "eeb4d5a1-b855-4b19-8afd-9d1bfae53ce2",
   "metadata": {},
   "outputs": [],
   "source": [
    "target_return_range = np.linspace(risk_free,0.12,1000) #Range for iterating through different optimal returns\n",
    "\n",
    "efficient_df = pd.DataFrame({'return':[],'std':[],'sharperatio':[]})\n",
    "efficient_port = list()\n",
    "\n",
    "for target_return in target_return_range: #Creating efficient frontier\n",
    "    x = optimize(volatiltiy,target_return)\n",
    "    efficient_port.append(x)\n",
    "    std, returns = portfolio_annualised_performance(x,df.mean(),df.cov())\n",
    "    efficient_df.loc[len(efficient_df.index)] = [returns, std, (returns - risk_free) / std]\n",
    "\n",
    "results, weights_records = random_portfolios(df) #Creating a lot of random portfolios\n",
    "\n",
    "\n",
    "\n",
    "fig, axes = plt.subplots()\n",
    "\n",
    "axes.scatter(x=results['std'],\n",
    "            y=results['return'],\n",
    "            c=results['sharperatio'],\n",
    "            cmap='viridis')\n",
    "axes.plot(efficient_df['std'],efficient_df['return'])\n",
    "axes.set_xlabel('Standard Deviation, Annualized')\n",
    "axes.set_ylabel('Return, Annualized')\n",
    "\n",
    "axes.set_xlim(0,0.25)\n",
    "axes.set_ylim(0,0.2)\n",
    "cmap = plt.get_cmap(\"Spectral\")\n",
    "norm = plt.Normalize(results['sharperatio'].min(), results['sharperatio'].max())\n",
    "sm =  ScalarMappable(norm=norm, cmap=cmap)\n",
    "fig.colorbar(sm, ax=axes)"
   ]
  }
 ],
 "metadata": {
  "kernelspec": {
   "display_name": "Python 3",
   "language": "python",
   "name": "python3"
  },
  "language_info": {
   "codemirror_mode": {
    "name": "ipython",
    "version": 3
   },
   "file_extension": ".py",
   "mimetype": "text/x-python",
   "name": "python",
   "nbconvert_exporter": "python",
   "pygments_lexer": "ipython3",
   "version": "3.8.8"
  }
 },
 "nbformat": 4,
 "nbformat_minor": 5
}
